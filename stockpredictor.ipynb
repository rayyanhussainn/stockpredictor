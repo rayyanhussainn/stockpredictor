{
 "cells": [
  {
   "cell_type": "code",
   "execution_count": 1,
   "id": "4aa494fd-0c11-473c-904a-10ad65ccd993",
   "metadata": {},
   "outputs": [],
   "source": [
    "#All imports\n",
    "\n",
    "import yfinance as yf\n",
    "import pandas as pd\n",
    "import json\n",
    "import matplotlib.pyplot as plt\n",
    "import seaborn as sns\n",
    "import os\n",
    "import sqlite3\n",
    "import numpy as np\n",
    "from tensorflow.keras.models import Sequential\n",
    "from tensorflow.keras.layers import LSTM\n",
    "from tensorflow.keras.layers import Dense, Dropout\n",
    "from sklearn.preprocessing import StandardScaler\n",
    "from datetime import datetime\n",
    "import mplfinance as mpf"
   ]
  },
  {
   "cell_type": "code",
   "execution_count": 2,
   "id": "26ec9349-2642-488e-8147-f1aa02a40a90",
   "metadata": {},
   "outputs": [],
   "source": [
    "def plot_candle(symbol, interval, period):\n",
    "    #Candlestick plotter using matplotlib finance\n",
    "    ticker = yf.Ticker(symbol).history(interval = interval, period = period, prepost = True)\n",
    "    mpf.plot(ticker, type = 'candle', style = 'charles', ylabel = 'Price')"
   ]
  },
  {
   "cell_type": "code",
   "execution_count": 3,
   "id": "39811416-7572-4944-b33b-7f43198645ba",
   "metadata": {},
   "outputs": [],
   "source": [
    "def plot_line(symbol, interval, period):\n",
    "    #LIne graph plotter using matplotlib finance library\n",
    "    ticker = yf.Ticker(symbol).history(interval = interval, period = period, prepost = True)\n",
    "    mpf.plot(ticker, type = 'line', style = 'charles', ylabel = 'Price')"
   ]
  },
  {
   "cell_type": "code",
   "execution_count": 4,
   "id": "030d14b9-0bdd-4512-a2bb-f3ca95d21565",
   "metadata": {},
   "outputs": [],
   "source": [
    "def create_ticker(symbol, interval, period):\n",
    "    #Returns pandas dataframe with datetime, open, close, high, low, volume etc.\n",
    "    ticker = yf.Ticker(symbol).history(interval = interval, period = period, prepost = True)\n",
    "    # Reset the index to convert it to a column\n",
    "    ticker.reset_index(inplace=True)\n",
    "    ticker = add_emv(ticker)\n",
    "    return ticker"
   ]
  },
  {
   "cell_type": "code",
   "execution_count": 6,
   "id": "bfd4015c",
   "metadata": {},
   "outputs": [],
   "source": [
    "def add_sma(ticker):\n",
    "    #adds simple moving averages\n",
    "    # Add a 20-day moving average\n",
    "    ticker['SMA_20'] = ticker['Close'].rolling(window=20).mean()\n",
    "\n",
    "    # Add a 50-day moving average\n",
    "    ticker['SMA_50'] = ticker['Close'].rolling(window=50).mean()\n",
    "\n",
    "    # Add a 200-day moving average\n",
    "    ticker['SMA_200'] = ticker['Close'].rolling(window=200).mean()\n",
    "    return ticker"
   ]
  },
  {
   "cell_type": "code",
   "execution_count": 7,
   "id": "b16f5750",
   "metadata": {},
   "outputs": [],
   "source": [
    "def add_emv(ticker):\n",
    "    # Add a 20-day exponential moving average\n",
    "    ticker['EMA_20'] = ticker['Close'].ewm(span=20, adjust=False).mean()\n",
    "\n",
    "    # Add a 50-day exponential moving average\n",
    "    ticker['EMA_50'] = ticker['Close'].ewm(span=50, adjust=False).mean()\n",
    "\n",
    "    # Add a 200-day exponential moving average\n",
    "    ticker['EMA_200'] = ticker['Close'].ewm(span=200, adjust=False).mean()\n",
    "    return ticker\n"
   ]
  },
  {
   "cell_type": "code",
   "execution_count": 65,
   "id": "c6e3cf30",
   "metadata": {},
   "outputs": [],
   "source": [
    "def separate_date(df_train):\n",
    "#Separate dates for future plotting\n",
    "    train_dates = pd.to_datetime(df_train['Date'])\n",
    "    return train_dates"
   ]
  },
  {
   "cell_type": "code",
   "execution_count": 69,
   "id": "e16b6ba7",
   "metadata": {},
   "outputs": [],
   "source": [
    "def normalise(df_train):\n",
    "    scaler = StandardScaler()\n",
    "    scaler = scaler.fit(df_train)\n",
    "    df_train_scaled = scaler.transform(df_train)\n",
    "    return df_train_scaled"
   ]
  },
  {
   "cell_type": "code",
   "execution_count": 68,
   "id": "0541f5df",
   "metadata": {},
   "outputs": [],
   "source": [
    "def preprocess_data(data, n_past, n_future):\n",
    "    # Print the input data to verify\n",
    "    print(\"Input Data:\", data)\n",
    "    \n",
    "    \n",
    "    X, Y = [], []\n",
    "\n",
    "    # Add your data preprocessing logic here\n",
    "    # For example:\n",
    "    for i in range(n_past, len(df_train) - n_future + 1):\n",
    "        X.append(df_train[i - n_past:i, 0:data.shape[1]])\n",
    "        Y.append(df_train[i:i + n_future, 0])\n",
    "\n",
    "    X, Y = np.array(X), np.array(Y)\n",
    "\n",
    "    # Print the shapes of X and y to verify they are as expected\n",
    "    print(\"X shape:\", X.shape)\n",
    "    print(\"y shape:\", Y.shape)\n",
    "\n",
    "    return X, Y"
   ]
  },
  {
   "cell_type": "code",
   "execution_count": 72,
   "id": "87695972",
   "metadata": {},
   "outputs": [],
   "source": [
    "def train_cols(ticker, cols):\n",
    "      df_train = ticker[cols].astype(float)\n",
    "      return df_train"
   ]
  },
  {
   "cell_type": "code",
   "execution_count": 43,
   "id": "c4f34255",
   "metadata": {},
   "outputs": [],
   "source": [
    "n_future = 7   # Number of days we want to look into the future based on the past days\n",
    "n_past = 150    # Number of past days we want to use to predict the future\n"
   ]
  },
  {
   "cell_type": "code",
   "execution_count": 105,
   "id": "97952d09",
   "metadata": {},
   "outputs": [],
   "source": [
    "def fit_LSTM(trainX, trainY):\n",
    "    model = Sequential()\n",
    "    model.add(LSTM(64, activation='relu', input_shape=(trainX.shape[1], trainX.shape[2]), return_sequences=True))\n",
    "    model.add(LSTM(32, activation='relu', return_sequences=False))\n",
    "    model.add(Dropout(0.2))\n",
    "    model.add(Dense(trainY.shape[1]))\n",
    "\n",
    "    model.compile(optimizer='adam', loss='mse')\n",
    "    model.summary()\n",
    "\n",
    "    # Fit the model\n",
    "    history = model.fit(trainX, trainY, epochs=5, batch_size=16, validation_split=0.1, verbose=1)\n",
    "\n",
    "    plt.plot(history.history['loss'], label='Training loss')\n",
    "    plt.plot(history.history['val_loss'], label='Validation loss')\n",
    "    plt.legend()\n",
    "    plt.show()\n",
    "    return model"
   ]
  },
  {
   "cell_type": "code",
   "execution_count": 107,
   "id": "7cfc9e97",
   "metadata": {},
   "outputs": [],
   "source": [
    "def predict(model, days_for_prediction):\n",
    "    prediction = model.predict(testX[-days_for_prediction:]) \n",
    "    #Rescale back to original range\n",
    "    prediction_copies = np.repeat(prediction, df_for_testing.shape[1], axis=-1)\n",
    "    y_pred_future = scaler.inverse_transform(prediction_copies)[:, 3]\n",
    "    return y_pred_future\n"
   ]
  },
  {
   "cell_type": "code",
   "execution_count": 20,
   "id": "a03c90e6",
   "metadata": {},
   "outputs": [],
   "source": [
    "ticker = create_ticker('AAPL', '1d', '1y')"
   ]
  },
  {
   "cell_type": "code",
   "execution_count": 21,
   "id": "be886b07",
   "metadata": {},
   "outputs": [
    {
     "data": {
      "text/html": [
       "<div>\n",
       "<style scoped>\n",
       "    .dataframe tbody tr th:only-of-type {\n",
       "        vertical-align: middle;\n",
       "    }\n",
       "\n",
       "    .dataframe tbody tr th {\n",
       "        vertical-align: top;\n",
       "    }\n",
       "\n",
       "    .dataframe thead th {\n",
       "        text-align: right;\n",
       "    }\n",
       "</style>\n",
       "<table border=\"1\" class=\"dataframe\">\n",
       "  <thead>\n",
       "    <tr style=\"text-align: right;\">\n",
       "      <th></th>\n",
       "      <th>Date</th>\n",
       "      <th>Open</th>\n",
       "      <th>High</th>\n",
       "      <th>Low</th>\n",
       "      <th>Close</th>\n",
       "      <th>Volume</th>\n",
       "      <th>Dividends</th>\n",
       "      <th>Stock Splits</th>\n",
       "      <th>EMA_20</th>\n",
       "      <th>EMA_50</th>\n",
       "      <th>EMA_200</th>\n",
       "    </tr>\n",
       "  </thead>\n",
       "  <tbody>\n",
       "    <tr>\n",
       "      <th>0</th>\n",
       "      <td>2023-07-05 00:00:00-04:00</td>\n",
       "      <td>190.558013</td>\n",
       "      <td>191.960552</td>\n",
       "      <td>189.613019</td>\n",
       "      <td>190.319275</td>\n",
       "      <td>46920300</td>\n",
       "      <td>0.0</td>\n",
       "      <td>0.0</td>\n",
       "      <td>190.319275</td>\n",
       "      <td>190.319275</td>\n",
       "      <td>190.319275</td>\n",
       "    </tr>\n",
       "    <tr>\n",
       "      <th>1</th>\n",
       "      <td>2023-07-06 00:00:00-04:00</td>\n",
       "      <td>188.837143</td>\n",
       "      <td>191.005635</td>\n",
       "      <td>188.200525</td>\n",
       "      <td>190.796738</td>\n",
       "      <td>45094300</td>\n",
       "      <td>0.0</td>\n",
       "      <td>0.0</td>\n",
       "      <td>190.364748</td>\n",
       "      <td>190.337999</td>\n",
       "      <td>190.324026</td>\n",
       "    </tr>\n",
       "    <tr>\n",
       "      <th>2</th>\n",
       "      <td>2023-07-07 00:00:00-04:00</td>\n",
       "      <td>190.398838</td>\n",
       "      <td>191.652177</td>\n",
       "      <td>189.235021</td>\n",
       "      <td>189.672684</td>\n",
       "      <td>46778000</td>\n",
       "      <td>0.0</td>\n",
       "      <td>0.0</td>\n",
       "      <td>190.298837</td>\n",
       "      <td>190.311908</td>\n",
       "      <td>190.317545</td>\n",
       "    </tr>\n",
       "    <tr>\n",
       "      <th>3</th>\n",
       "      <td>2023-07-10 00:00:00-04:00</td>\n",
       "      <td>188.260192</td>\n",
       "      <td>188.986347</td>\n",
       "      <td>186.051919</td>\n",
       "      <td>187.613632</td>\n",
       "      <td>59922200</td>\n",
       "      <td>0.0</td>\n",
       "      <td>0.0</td>\n",
       "      <td>190.043103</td>\n",
       "      <td>190.206093</td>\n",
       "      <td>190.290640</td>\n",
       "    </tr>\n",
       "    <tr>\n",
       "      <th>4</th>\n",
       "      <td>2023-07-11 00:00:00-04:00</td>\n",
       "      <td>188.160722</td>\n",
       "      <td>188.299982</td>\n",
       "      <td>185.614248</td>\n",
       "      <td>187.086426</td>\n",
       "      <td>46638100</td>\n",
       "      <td>0.0</td>\n",
       "      <td>0.0</td>\n",
       "      <td>189.761515</td>\n",
       "      <td>190.083753</td>\n",
       "      <td>190.258757</td>\n",
       "    </tr>\n",
       "    <tr>\n",
       "      <th>...</th>\n",
       "      <td>...</td>\n",
       "      <td>...</td>\n",
       "      <td>...</td>\n",
       "      <td>...</td>\n",
       "      <td>...</td>\n",
       "      <td>...</td>\n",
       "      <td>...</td>\n",
       "      <td>...</td>\n",
       "      <td>...</td>\n",
       "      <td>...</td>\n",
       "      <td>...</td>\n",
       "    </tr>\n",
       "    <tr>\n",
       "      <th>247</th>\n",
       "      <td>2024-06-27 00:00:00-04:00</td>\n",
       "      <td>214.690002</td>\n",
       "      <td>215.740005</td>\n",
       "      <td>212.350006</td>\n",
       "      <td>214.100006</td>\n",
       "      <td>49772700</td>\n",
       "      <td>0.0</td>\n",
       "      <td>0.0</td>\n",
       "      <td>205.202150</td>\n",
       "      <td>194.722179</td>\n",
       "      <td>185.831715</td>\n",
       "    </tr>\n",
       "    <tr>\n",
       "      <th>248</th>\n",
       "      <td>2024-06-28 00:00:00-04:00</td>\n",
       "      <td>215.770004</td>\n",
       "      <td>216.070007</td>\n",
       "      <td>210.300003</td>\n",
       "      <td>210.619995</td>\n",
       "      <td>82542700</td>\n",
       "      <td>0.0</td>\n",
       "      <td>0.0</td>\n",
       "      <td>205.718135</td>\n",
       "      <td>195.345623</td>\n",
       "      <td>186.078365</td>\n",
       "    </tr>\n",
       "    <tr>\n",
       "      <th>249</th>\n",
       "      <td>2024-07-01 00:00:00-04:00</td>\n",
       "      <td>212.089996</td>\n",
       "      <td>217.509995</td>\n",
       "      <td>211.919998</td>\n",
       "      <td>216.750000</td>\n",
       "      <td>60402900</td>\n",
       "      <td>0.0</td>\n",
       "      <td>0.0</td>\n",
       "      <td>206.768789</td>\n",
       "      <td>196.185010</td>\n",
       "      <td>186.383555</td>\n",
       "    </tr>\n",
       "    <tr>\n",
       "      <th>250</th>\n",
       "      <td>2024-07-02 00:00:00-04:00</td>\n",
       "      <td>216.149994</td>\n",
       "      <td>220.380005</td>\n",
       "      <td>215.100006</td>\n",
       "      <td>220.270004</td>\n",
       "      <td>58046200</td>\n",
       "      <td>0.0</td>\n",
       "      <td>0.0</td>\n",
       "      <td>208.054619</td>\n",
       "      <td>197.129520</td>\n",
       "      <td>186.720734</td>\n",
       "    </tr>\n",
       "    <tr>\n",
       "      <th>251</th>\n",
       "      <td>2024-07-03 00:00:00-04:00</td>\n",
       "      <td>220.000000</td>\n",
       "      <td>221.550003</td>\n",
       "      <td>219.029999</td>\n",
       "      <td>221.550003</td>\n",
       "      <td>37369800</td>\n",
       "      <td>0.0</td>\n",
       "      <td>0.0</td>\n",
       "      <td>209.339894</td>\n",
       "      <td>198.087186</td>\n",
       "      <td>187.067294</td>\n",
       "    </tr>\n",
       "  </tbody>\n",
       "</table>\n",
       "<p>252 rows × 11 columns</p>\n",
       "</div>"
      ],
      "text/plain": [
       "                         Date        Open        High         Low       Close  \\\n",
       "0   2023-07-05 00:00:00-04:00  190.558013  191.960552  189.613019  190.319275   \n",
       "1   2023-07-06 00:00:00-04:00  188.837143  191.005635  188.200525  190.796738   \n",
       "2   2023-07-07 00:00:00-04:00  190.398838  191.652177  189.235021  189.672684   \n",
       "3   2023-07-10 00:00:00-04:00  188.260192  188.986347  186.051919  187.613632   \n",
       "4   2023-07-11 00:00:00-04:00  188.160722  188.299982  185.614248  187.086426   \n",
       "..                        ...         ...         ...         ...         ...   \n",
       "247 2024-06-27 00:00:00-04:00  214.690002  215.740005  212.350006  214.100006   \n",
       "248 2024-06-28 00:00:00-04:00  215.770004  216.070007  210.300003  210.619995   \n",
       "249 2024-07-01 00:00:00-04:00  212.089996  217.509995  211.919998  216.750000   \n",
       "250 2024-07-02 00:00:00-04:00  216.149994  220.380005  215.100006  220.270004   \n",
       "251 2024-07-03 00:00:00-04:00  220.000000  221.550003  219.029999  221.550003   \n",
       "\n",
       "       Volume  Dividends  Stock Splits      EMA_20      EMA_50     EMA_200  \n",
       "0    46920300        0.0           0.0  190.319275  190.319275  190.319275  \n",
       "1    45094300        0.0           0.0  190.364748  190.337999  190.324026  \n",
       "2    46778000        0.0           0.0  190.298837  190.311908  190.317545  \n",
       "3    59922200        0.0           0.0  190.043103  190.206093  190.290640  \n",
       "4    46638100        0.0           0.0  189.761515  190.083753  190.258757  \n",
       "..        ...        ...           ...         ...         ...         ...  \n",
       "247  49772700        0.0           0.0  205.202150  194.722179  185.831715  \n",
       "248  82542700        0.0           0.0  205.718135  195.345623  186.078365  \n",
       "249  60402900        0.0           0.0  206.768789  196.185010  186.383555  \n",
       "250  58046200        0.0           0.0  208.054619  197.129520  186.720734  \n",
       "251  37369800        0.0           0.0  209.339894  198.087186  187.067294  \n",
       "\n",
       "[252 rows x 11 columns]"
      ]
     },
     "execution_count": 21,
     "metadata": {},
     "output_type": "execute_result"
    }
   ],
   "source": [
    "ticker"
   ]
  },
  {
   "cell_type": "code",
   "execution_count": 66,
   "id": "d2e59457",
   "metadata": {},
   "outputs": [],
   "source": [
    "train_dates = separate_date(ticker)"
   ]
  },
  {
   "cell_type": "code",
   "execution_count": 67,
   "id": "06d3b19c",
   "metadata": {},
   "outputs": [],
   "source": [
    "cols = ['Open', 'High', 'Low', 'Close', 'Volume', 'EMA_20', 'EMA_50', 'EMA_200']"
   ]
  },
  {
   "cell_type": "code",
   "execution_count": 73,
   "id": "dda7b023",
   "metadata": {},
   "outputs": [],
   "source": [
    "df_train_scaled = normalise(train_cols(ticker, cols))"
   ]
  },
  {
   "cell_type": "code",
   "execution_count": 74,
   "id": "3f2597a8",
   "metadata": {},
   "outputs": [
    {
     "data": {
      "text/plain": [
       "array([[0.58239068, 0.55567913, 0.63433385, ..., 0.83797415, 1.26237065,\n",
       "        1.82803185],\n",
       "       [0.43102675, 0.47306236, 0.50876159, ..., 0.84341039, 1.26572452,\n",
       "        1.8297659 ],\n",
       "       [0.56839006, 0.52899932, 0.60072942, ..., 0.83553077, 1.26105111,\n",
       "        1.82740035],\n",
       "       ...,\n",
       "       [2.47629721, 2.76614473, 2.61744849, ..., 2.80450882, 2.31304694,\n",
       "        0.3915086 ],\n",
       "       [2.83340578, 3.01444992, 2.90015465, ..., 2.95822942, 2.48222842,\n",
       "        0.51457756],\n",
       "       [3.17204395, 3.11567486, 3.24953526, ..., 3.11188364, 2.6537665 ,\n",
       "        0.64107065]])"
      ]
     },
     "execution_count": 74,
     "metadata": {},
     "output_type": "execute_result"
    }
   ],
   "source": [
    "df_train_scaled"
   ]
  },
  {
   "cell_type": "code",
   "execution_count": 82,
   "id": "82140900",
   "metadata": {},
   "outputs": [],
   "source": [
    "trainX = []\n",
    "trainY = []\n",
    "\n",
    "n_future = 7   # Number of days we want to look into the future based on the past days.\n",
    "n_past = 150  # Number of past days we want to use to predict the future.\n",
    "\n",
    "n_features = df_train_scaled.shape[1]\n",
    "\n",
    "# Initialize lists to store the sequences\n",
    "trainX, trainY = [], []\n",
    "\n",
    "# Reformat input data into a shape: (n_samples x timesteps x n_features)\n",
    "for i in range(n_past, len(df_train_scaled) - n_future + 1):\n",
    "    trainX.append(df_train_scaled[i - n_past:i, 0:n_features])\n",
    "    trainY.append(df_train_scaled[i + n_future - 1:i + n_future, 3])\n",
    "    \n",
    "\n",
    "trainX, trainY = np.array(trainX), np.array(trainY)\n"
   ]
  },
  {
   "cell_type": "code",
   "execution_count": 84,
   "id": "13faf67c",
   "metadata": {},
   "outputs": [
    {
     "data": {
      "text/plain": [
       "array([[[ 0.58239068,  0.55567913,  0.63433385, ...,  0.83797415,\n",
       "          1.26237065,  1.82803185],\n",
       "        [ 0.43102675,  0.47306236,  0.50876159, ...,  0.84341039,\n",
       "          1.26572452,  1.8297659 ],\n",
       "        [ 0.56839006,  0.52899932,  0.60072942, ...,  0.83553077,\n",
       "          1.26105111,  1.82740035],\n",
       "        ...,\n",
       "        [-0.40014584,  0.11247716, -0.32881563, ...,  0.62243175,\n",
       "          0.83875915,  0.3014707 ],\n",
       "        [ 0.32710839,  0.27815368,  0.25550313, ...,  0.60729558,\n",
       "          0.83336861,  0.30528426],\n",
       "        [ 0.21394139,  0.28333076,  0.33796453, ...,  0.61199742,\n",
       "          0.83953907,  0.31492798]],\n",
       "\n",
       "       [[ 0.43102675,  0.47306236,  0.50876159, ...,  0.84341039,\n",
       "          1.26572452,  1.8297659 ],\n",
       "        [ 0.56839006,  0.52899932,  0.60072942, ...,  0.83553077,\n",
       "          1.26105111,  1.82740035],\n",
       "        [ 0.38027941,  0.29835926,  0.31774819, ...,  0.80495787,\n",
       "          1.24209747,  1.81758027],\n",
       "        ...,\n",
       "        [ 0.32710839,  0.27815368,  0.25550313, ...,  0.60729558,\n",
       "          0.83336861,  0.30528426],\n",
       "        [ 0.21394139,  0.28333076,  0.33796453, ...,  0.61199742,\n",
       "          0.83953907,  0.31492798],\n",
       "        [ 0.54554829,  0.43347555,  0.50111237, ...,  0.61750059,\n",
       "          0.8462382 ,  0.32487419]],\n",
       "\n",
       "       [[ 0.56839006,  0.52899932,  0.60072942, ...,  0.83553077,\n",
       "          1.26105111,  1.82740035],\n",
       "        [ 0.38027941,  0.29835926,  0.31774819, ...,  0.80495787,\n",
       "          1.24209747,  1.81758027],\n",
       "        [ 0.37153023,  0.23897691,  0.27883883, ...,  0.77129407,\n",
       "          1.22018383,  1.80594319],\n",
       "        ...,\n",
       "        [ 0.21394139,  0.28333076,  0.33796453, ...,  0.61199742,\n",
       "          0.83953907,  0.31492798],\n",
       "        [ 0.54554829,  0.43347555,  0.50111237, ...,  0.61750059,\n",
       "          0.8462382 ,  0.32487419],\n",
       "        [ 0.4358903 ,  0.30317742,  0.38939222, ...,  0.61010196,\n",
       "          0.84503826,  0.33077319]],\n",
       "\n",
       "       ...,\n",
       "\n",
       "       [[ 0.2876312 ,  0.17978284,  0.29629035, ..., -0.57887811,\n",
       "         -1.01093983, -0.67900262],\n",
       "        [ 0.3007912 ,  0.29972591,  0.42751809, ..., -0.47585642,\n",
       "         -0.94148122, -0.66423776],\n",
       "        [ 0.45168225,  0.42571064,  0.50465935, ..., -0.36334124,\n",
       "         -0.8628363 , -0.64346188],\n",
       "        ...,\n",
       "        [ 2.58888312,  2.89072967,  2.68856963, ...,  1.91167378,\n",
       "          1.11374978, -0.47261515],\n",
       "        [ 2.96006527,  2.86304486,  2.71346183, ...,  2.08233976,\n",
       "          1.28795683, -0.36266618],\n",
       "        [ 2.63813929,  2.48323451,  2.34452287, ...,  2.18426382,\n",
       "          1.42294995, -0.27055385]],\n",
       "\n",
       "       [[ 0.3007912 ,  0.29972591,  0.42751809, ..., -0.47585642,\n",
       "         -0.94148122, -0.66423776],\n",
       "        [ 0.45168225,  0.42571064,  0.50465935, ..., -0.36334124,\n",
       "         -0.8628363 , -0.64346188],\n",
       "        [ 0.5113352 ,  0.37566176,  0.49756654, ..., -0.26176903,\n",
       "         -0.78741568, -0.62296522],\n",
       "        ...,\n",
       "        [ 2.96006527,  2.86304486,  2.71346183, ...,  2.08233976,\n",
       "          1.28795683, -0.36266618],\n",
       "        [ 2.63813929,  2.48323451,  2.34452287, ...,  2.18426382,\n",
       "          1.42294995, -0.27055385],\n",
       "        [ 2.32676917,  2.27991861,  2.1898345 , ...,  2.25154632,\n",
       "          1.53726599, -0.18731167]],\n",
       "\n",
       "       [[ 0.45168225,  0.42571064,  0.50465935, ..., -0.36334124,\n",
       "         -0.8628363 , -0.64346188],\n",
       "        [ 0.5113352 ,  0.37566176,  0.49756654, ..., -0.26176903,\n",
       "         -0.78741568, -0.62296522],\n",
       "        [ 0.47975355,  0.50768521,  0.61372082, ..., -0.14988426,\n",
       "         -0.70262239, -0.59629733],\n",
       "        ...,\n",
       "        [ 2.63813929,  2.48323451,  2.34452287, ...,  2.18426382,\n",
       "          1.42294995, -0.27055385],\n",
       "        [ 2.32676917,  2.27991861,  2.1898345 , ...,  2.25154632,\n",
       "          1.53726599, -0.18731167],\n",
       "        [ 2.09192193,  2.34999732,  2.14360555, ...,  2.31982158,\n",
       "          1.65166483, -0.10253711]]])"
      ]
     },
     "execution_count": 84,
     "metadata": {},
     "output_type": "execute_result"
    }
   ],
   "source": [
    "trainX"
   ]
  },
  {
   "cell_type": "code",
   "execution_count": 106,
   "id": "a772f9d7",
   "metadata": {},
   "outputs": [
    {
     "data": {
      "text/html": [
       "<pre style=\"white-space:pre;overflow-x:auto;line-height:normal;font-family:Menlo,'DejaVu Sans Mono',consolas,'Courier New',monospace\"><span style=\"font-weight: bold\">Model: \"sequential_9\"</span>\n",
       "</pre>\n"
      ],
      "text/plain": [
       "\u001b[1mModel: \"sequential_9\"\u001b[0m\n"
      ]
     },
     "metadata": {},
     "output_type": "display_data"
    },
    {
     "data": {
      "text/html": [
       "<pre style=\"white-space:pre;overflow-x:auto;line-height:normal;font-family:Menlo,'DejaVu Sans Mono',consolas,'Courier New',monospace\">┏━━━━━━━━━━━━━━━━━━━━━━━━━━━━━━━━━┳━━━━━━━━━━━━━━━━━━━━━━━━┳━━━━━━━━━━━━━━━┓\n",
       "┃<span style=\"font-weight: bold\"> Layer (type)                    </span>┃<span style=\"font-weight: bold\"> Output Shape           </span>┃<span style=\"font-weight: bold\">       Param # </span>┃\n",
       "┡━━━━━━━━━━━━━━━━━━━━━━━━━━━━━━━━━╇━━━━━━━━━━━━━━━━━━━━━━━━╇━━━━━━━━━━━━━━━┩\n",
       "│ lstm_18 (<span style=\"color: #0087ff; text-decoration-color: #0087ff\">LSTM</span>)                  │ (<span style=\"color: #00d7ff; text-decoration-color: #00d7ff\">None</span>, <span style=\"color: #00af00; text-decoration-color: #00af00\">150</span>, <span style=\"color: #00af00; text-decoration-color: #00af00\">64</span>)        │        <span style=\"color: #00af00; text-decoration-color: #00af00\">18,688</span> │\n",
       "├─────────────────────────────────┼────────────────────────┼───────────────┤\n",
       "│ lstm_19 (<span style=\"color: #0087ff; text-decoration-color: #0087ff\">LSTM</span>)                  │ (<span style=\"color: #00d7ff; text-decoration-color: #00d7ff\">None</span>, <span style=\"color: #00af00; text-decoration-color: #00af00\">32</span>)             │        <span style=\"color: #00af00; text-decoration-color: #00af00\">12,416</span> │\n",
       "├─────────────────────────────────┼────────────────────────┼───────────────┤\n",
       "│ dropout_9 (<span style=\"color: #0087ff; text-decoration-color: #0087ff\">Dropout</span>)             │ (<span style=\"color: #00d7ff; text-decoration-color: #00d7ff\">None</span>, <span style=\"color: #00af00; text-decoration-color: #00af00\">32</span>)             │             <span style=\"color: #00af00; text-decoration-color: #00af00\">0</span> │\n",
       "├─────────────────────────────────┼────────────────────────┼───────────────┤\n",
       "│ dense_9 (<span style=\"color: #0087ff; text-decoration-color: #0087ff\">Dense</span>)                 │ (<span style=\"color: #00d7ff; text-decoration-color: #00d7ff\">None</span>, <span style=\"color: #00af00; text-decoration-color: #00af00\">1</span>)              │            <span style=\"color: #00af00; text-decoration-color: #00af00\">33</span> │\n",
       "└─────────────────────────────────┴────────────────────────┴───────────────┘\n",
       "</pre>\n"
      ],
      "text/plain": [
       "┏━━━━━━━━━━━━━━━━━━━━━━━━━━━━━━━━━┳━━━━━━━━━━━━━━━━━━━━━━━━┳━━━━━━━━━━━━━━━┓\n",
       "┃\u001b[1m \u001b[0m\u001b[1mLayer (type)                   \u001b[0m\u001b[1m \u001b[0m┃\u001b[1m \u001b[0m\u001b[1mOutput Shape          \u001b[0m\u001b[1m \u001b[0m┃\u001b[1m \u001b[0m\u001b[1m      Param #\u001b[0m\u001b[1m \u001b[0m┃\n",
       "┡━━━━━━━━━━━━━━━━━━━━━━━━━━━━━━━━━╇━━━━━━━━━━━━━━━━━━━━━━━━╇━━━━━━━━━━━━━━━┩\n",
       "│ lstm_18 (\u001b[38;5;33mLSTM\u001b[0m)                  │ (\u001b[38;5;45mNone\u001b[0m, \u001b[38;5;34m150\u001b[0m, \u001b[38;5;34m64\u001b[0m)        │        \u001b[38;5;34m18,688\u001b[0m │\n",
       "├─────────────────────────────────┼────────────────────────┼───────────────┤\n",
       "│ lstm_19 (\u001b[38;5;33mLSTM\u001b[0m)                  │ (\u001b[38;5;45mNone\u001b[0m, \u001b[38;5;34m32\u001b[0m)             │        \u001b[38;5;34m12,416\u001b[0m │\n",
       "├─────────────────────────────────┼────────────────────────┼───────────────┤\n",
       "│ dropout_9 (\u001b[38;5;33mDropout\u001b[0m)             │ (\u001b[38;5;45mNone\u001b[0m, \u001b[38;5;34m32\u001b[0m)             │             \u001b[38;5;34m0\u001b[0m │\n",
       "├─────────────────────────────────┼────────────────────────┼───────────────┤\n",
       "│ dense_9 (\u001b[38;5;33mDense\u001b[0m)                 │ (\u001b[38;5;45mNone\u001b[0m, \u001b[38;5;34m1\u001b[0m)              │            \u001b[38;5;34m33\u001b[0m │\n",
       "└─────────────────────────────────┴────────────────────────┴───────────────┘\n"
      ]
     },
     "metadata": {},
     "output_type": "display_data"
    },
    {
     "data": {
      "text/html": [
       "<pre style=\"white-space:pre;overflow-x:auto;line-height:normal;font-family:Menlo,'DejaVu Sans Mono',consolas,'Courier New',monospace\"><span style=\"font-weight: bold\"> Total params: </span><span style=\"color: #00af00; text-decoration-color: #00af00\">31,137</span> (121.63 KB)\n",
       "</pre>\n"
      ],
      "text/plain": [
       "\u001b[1m Total params: \u001b[0m\u001b[38;5;34m31,137\u001b[0m (121.63 KB)\n"
      ]
     },
     "metadata": {},
     "output_type": "display_data"
    },
    {
     "data": {
      "text/html": [
       "<pre style=\"white-space:pre;overflow-x:auto;line-height:normal;font-family:Menlo,'DejaVu Sans Mono',consolas,'Courier New',monospace\"><span style=\"font-weight: bold\"> Trainable params: </span><span style=\"color: #00af00; text-decoration-color: #00af00\">31,137</span> (121.63 KB)\n",
       "</pre>\n"
      ],
      "text/plain": [
       "\u001b[1m Trainable params: \u001b[0m\u001b[38;5;34m31,137\u001b[0m (121.63 KB)\n"
      ]
     },
     "metadata": {},
     "output_type": "display_data"
    },
    {
     "data": {
      "text/html": [
       "<pre style=\"white-space:pre;overflow-x:auto;line-height:normal;font-family:Menlo,'DejaVu Sans Mono',consolas,'Courier New',monospace\"><span style=\"font-weight: bold\"> Non-trainable params: </span><span style=\"color: #00af00; text-decoration-color: #00af00\">0</span> (0.00 B)\n",
       "</pre>\n"
      ],
      "text/plain": [
       "\u001b[1m Non-trainable params: \u001b[0m\u001b[38;5;34m0\u001b[0m (0.00 B)\n"
      ]
     },
     "metadata": {},
     "output_type": "display_data"
    },
    {
     "name": "stdout",
     "output_type": "stream",
     "text": [
      "Epoch 1/5\n",
      "\u001b[1m6/6\u001b[0m \u001b[32m━━━━━━━━━━━━━━━━━━━━\u001b[0m\u001b[37m\u001b[0m \u001b[1m2s\u001b[0m 114ms/step - loss: 1.2142 - val_loss: 5.9620\n",
      "Epoch 2/5\n",
      "\u001b[1m6/6\u001b[0m \u001b[32m━━━━━━━━━━━━━━━━━━━━\u001b[0m\u001b[37m\u001b[0m \u001b[1m0s\u001b[0m 63ms/step - loss: 0.8048 - val_loss: 1.9198\n",
      "Epoch 3/5\n",
      "\u001b[1m6/6\u001b[0m \u001b[32m━━━━━━━━━━━━━━━━━━━━\u001b[0m\u001b[37m\u001b[0m \u001b[1m0s\u001b[0m 65ms/step - loss: 0.8180 - val_loss: 0.7195\n",
      "Epoch 4/5\n",
      "\u001b[1m6/6\u001b[0m \u001b[32m━━━━━━━━━━━━━━━━━━━━\u001b[0m\u001b[37m\u001b[0m \u001b[1m0s\u001b[0m 64ms/step - loss: nan - val_loss: nan\n",
      "Epoch 5/5\n",
      "\u001b[1m6/6\u001b[0m \u001b[32m━━━━━━━━━━━━━━━━━━━━\u001b[0m\u001b[37m\u001b[0m \u001b[1m0s\u001b[0m 69ms/step - loss: nan - val_loss: nan\n"
     ]
    },
    {
     "data": {
      "image/png": "[encoded data removed]",
      "text/plain": [
       "<Figure size 640x480 with 1 Axes>"
      ]
     },
     "metadata": {},
     "output_type": "display_data"
    }
   ],
   "source": [
    "model = fit_LSTM(trainX, trainY)"
   ]
  },
  {
   "cell_type": "code",
   "execution_count": 117,
   "id": "45702d29",
   "metadata": {},
   "outputs": [
    {
     "name": "stdout",
     "output_type": "stream",
     "text": [
      "[Timestamp('2023-11-28 00:00:00-0500', tz='America/New_York'), Timestamp('2023-11-29 00:00:00-0500', tz='America/New_York'), Timestamp('2023-11-30 00:00:00-0500', tz='America/New_York'), Timestamp('2023-12-01 00:00:00-0500', tz='America/New_York'), Timestamp('2023-12-02 00:00:00-0500', tz='America/New_York'), Timestamp('2023-12-03 00:00:00-0500', tz='America/New_York'), Timestamp('2023-12-04 00:00:00-0500', tz='America/New_York')]\n",
      "\u001b[1m1/1\u001b[0m \u001b[32m━━━━━━━━━━━━━━━━━━━━\u001b[0m\u001b[37m\u001b[0m \u001b[1m0s\u001b[0m 28ms/step\n",
      "[nan nan nan nan nan nan nan]\n"
     ]
    },
    {
     "data": {
      "text/html": [
       "<div>\n",
       "<style scoped>\n",
       "    .dataframe tbody tr th:only-of-type {\n",
       "        vertical-align: middle;\n",
       "    }\n",
       "\n",
       "    .dataframe tbody tr th {\n",
       "        vertical-align: top;\n",
       "    }\n",
       "\n",
       "    .dataframe thead th {\n",
       "        text-align: right;\n",
       "    }\n",
       "</style>\n",
       "<table border=\"1\" class=\"dataframe\">\n",
       "  <thead>\n",
       "    <tr style=\"text-align: right;\">\n",
       "      <th></th>\n",
       "      <th>Date</th>\n",
       "      <th>Close</th>\n",
       "    </tr>\n",
       "  </thead>\n",
       "  <tbody>\n",
       "    <tr>\n",
       "      <th>0</th>\n",
       "      <td>2023-11-28</td>\n",
       "      <td>NaN</td>\n",
       "    </tr>\n",
       "    <tr>\n",
       "      <th>1</th>\n",
       "      <td>2023-11-29</td>\n",
       "      <td>NaN</td>\n",
       "    </tr>\n",
       "    <tr>\n",
       "      <th>2</th>\n",
       "      <td>2023-11-30</td>\n",
       "      <td>NaN</td>\n",
       "    </tr>\n",
       "    <tr>\n",
       "      <th>3</th>\n",
       "      <td>2023-12-01</td>\n",
       "      <td>NaN</td>\n",
       "    </tr>\n",
       "    <tr>\n",
       "      <th>4</th>\n",
       "      <td>2023-12-02</td>\n",
       "      <td>NaN</td>\n",
       "    </tr>\n",
       "    <tr>\n",
       "      <th>5</th>\n",
       "      <td>2023-12-03</td>\n",
       "      <td>NaN</td>\n",
       "    </tr>\n",
       "    <tr>\n",
       "      <th>6</th>\n",
       "      <td>2023-12-04</td>\n",
       "      <td>NaN</td>\n",
       "    </tr>\n",
       "  </tbody>\n",
       "</table>\n",
       "</div>"
      ],
      "text/plain": [
       "        Date  Close\n",
       "0 2023-11-28    NaN\n",
       "1 2023-11-29    NaN\n",
       "2 2023-11-30    NaN\n",
       "3 2023-12-01    NaN\n",
       "4 2023-12-02    NaN\n",
       "5 2023-12-03    NaN\n",
       "6 2023-12-04    NaN"
      ]
     },
     "execution_count": 117,
     "metadata": {},
     "output_type": "execute_result"
    },
    {
     "data": {
      "image/png": "[encoded data removed]",
      "text/plain": [
       "<Figure size 640x480 with 1 Axes>"
      ]
     },
     "metadata": {},
     "output_type": "display_data"
    }
   ],
   "source": [
    "n_days_for_prediction = 7\n",
    "scaler = StandardScaler()\n",
    "scaler = scaler.fit(df_train)\n",
    "predict_period_dates = pd.date_range(list(train_dates)[-n_past], periods=n_days_for_prediction).tolist()\n",
    "print(predict_period_dates)\n",
    "\n",
    "#Make prediction\n",
    "prediction = model.predict(trainX[-n_days_for_prediction:]) #shape = (n, 1) where n is the n_days_for_prediction\n",
    "\n",
    "#Perform inverse transformation to rescale back to original range\n",
    "\n",
    "prediction_copies = np.repeat(prediction, df_train.shape[1], axis=-1)\n",
    "y_pred_future = scaler.inverse_transform(prediction_copies)[:,0]\n",
    "print(y_pred_future)\n",
    "\n",
    "\n",
    "# Convert timestamp to date\n",
    "forecast_dates = []\n",
    "for time_i in predict_period_dates:\n",
    "    forecast_dates.append(time_i.date())\n",
    "    \n",
    "df_forecast = pd.DataFrame({'Date':np.array(forecast_dates), 'Close':y_pred_future})\n",
    "df_forecast['Date']=pd.to_datetime(df_forecast['Date'])\n",
    "\n",
    "#Original and df_forecast DataFrames are already defined\n",
    "original['Date'] = pd.to_datetime(original['Date'])\n",
    "original = original.loc[original['Date'] >= '2020-5-1']\n",
    "\n",
    "# Plotting with Seaborn\n",
    "sns.lineplot(data=original, x='Date', y='Close', label='Original')\n",
    "sns.lineplot(data=df_forecast, x='Date', y='Close', label='Forecast')\n",
    "\n",
    "df_forecast\n"
   ]
  }
 ],
 "metadata": {
  "kernelspec": {
   "display_name": "python3",
   "language": "python",
   "name": "python3"
  },
  "language_info": {
   "codemirror_mode": {
    "name": "ipython",
    "version": 3
   },
   "file_extension": ".py",
   "mimetype": "text/x-python",
   "name": "python",
   "nbconvert_exporter": "python",
   "pygments_lexer": "ipython3",
   "version": "3.11.9"
  }
 },
 "nbformat": 4,
 "nbformat_minor": 5
}
